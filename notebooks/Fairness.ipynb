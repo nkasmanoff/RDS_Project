{
 "cells": [
  {
   "cell_type": "code",
   "execution_count": null,
   "id": "fd99df95",
   "metadata": {},
   "outputs": [],
   "source": [
    "import os\n",
    "import gc\n",
    "import re\n",
    "import time\n",
    "import numpy as np\n",
    "import pandas as pd\n",
    "from contextlib import contextmanager\n",
    "import multiprocessing as mp\n",
    "from functools import partial\n",
    "from scipy.stats import kurtosis, iqr, skew\n",
    "from lightgbm import LGBMClassifier\n",
    "from sklearn.linear_model import LinearRegression\n",
    "from sklearn.model_selection import KFold, StratifiedKFold\n",
    "from sklearn.metrics import roc_auc_score\n",
    "import warnings\n",
    "warnings.simplefilter(action='ignore', category=FutureWarning)\n",
    "\n",
    "import matplotlib.pyplot as plt \n",
    "%matplotlib inline\n",
    "pd.set_option('display.max_columns', None)\n",
    "pd.set_option('display.max_rows', None)\n"
   ]
  },
  {
   "cell_type": "code",
   "execution_count": null,
   "id": "e4c9a11d",
   "metadata": {},
   "outputs": [],
   "source": [
    "pd.read_csv('../../../home-credit-default-risk/HomeCredit_columns_description.csv',index_col=0)"
   ]
  },
  {
   "cell_type": "code",
   "execution_count": null,
   "id": "99b777ec",
   "metadata": {},
   "outputs": [],
   "source": [
    "feature_importances = pd.read_csv('feature_importance_model2_04.csv')"
   ]
  },
  {
   "cell_type": "code",
   "execution_count": null,
   "id": "85e1efce",
   "metadata": {},
   "outputs": [],
   "source": [
    "feature_importances.head()"
   ]
  },
  {
   "cell_type": "code",
   "execution_count": null,
   "id": "e4bd2e63",
   "metadata": {},
   "outputs": [],
   "source": [
    "decisions = pd.read_csv('oof_model2_04.csv')"
   ]
  },
  {
   "cell_type": "code",
   "execution_count": null,
   "id": "95efce2b",
   "metadata": {},
   "outputs": [],
   "source": [
    "decisions[['SK_ID_CURR','TARGET','PREDICTIONS']].head()"
   ]
  },
  {
   "cell_type": "code",
   "execution_count": null,
   "id": "7e5977e8",
   "metadata": {},
   "outputs": [],
   "source": [
    "submission = pd.read_csv('submission_model2_04.csv')"
   ]
  },
  {
   "cell_type": "code",
   "execution_count": null,
   "id": "73ef967d",
   "metadata": {},
   "outputs": [],
   "source": [
    "test = pd.read_csv('../../../home-credit-default-risk/application_test.csv')\n",
    "train = pd.read_csv('../../../home-credit-default-risk/application_train.csv')"
   ]
  },
  {
   "cell_type": "code",
   "execution_count": null,
   "id": "b0904754",
   "metadata": {},
   "outputs": [],
   "source": [
    "train.shape, test.shape"
   ]
  },
  {
   "cell_type": "code",
   "execution_count": null,
   "id": "ef1ffc36",
   "metadata": {},
   "outputs": [],
   "source": [
    "data = train.merge(decisions[['SK_ID_CURR','PREDICTIONS']],on='SK_ID_CURR',how='left')\n",
    "test = test.merge(submission[['SK_ID_CURR','TARGET']],on='SK_ID_CURR',how='left')"
   ]
  },
  {
   "cell_type": "code",
   "execution_count": null,
   "id": "61f34764",
   "metadata": {},
   "outputs": [],
   "source": [
    "data.shape, test.shape"
   ]
  },
  {
   "cell_type": "code",
   "execution_count": null,
   "id": "ef439f66",
   "metadata": {},
   "outputs": [],
   "source": [
    "data.dropna(subset=['PREDICTIONS'],axis=0,inplace=True)"
   ]
  },
  {
   "cell_type": "code",
   "execution_count": null,
   "id": "4a4d86ac",
   "metadata": {},
   "outputs": [],
   "source": [
    "\n",
    "# Libraries to study\n",
    "#from aif360.datasets import StandardDataset\n",
    "#from aif360.metrics import BinaryLabelDatasetMetric, ClassificationMetric\n",
    "#from aif360.algorithms.preprocessing import LFR, Reweighing\n",
    "#from aif360.algorithms.inprocessing import AdversarialDebiasing, PrejudiceRemover\n",
    "#from aif360.algorithms.postprocessing import CalibratedEqOddsPostprocessing, EqOddsPostprocessing, RejectOptionClassification\n",
    "\n",
    "# ML libraries\n",
    "from sklearn.metrics import confusion_matrix, accuracy_score, f1_score, roc_auc_score\n",
    "from sklearn.preprocessing import MinMaxScaler, LabelEncoder\n",
    "from sklearn.ensemble import RandomForestClassifier"
   ]
  },
  {
   "cell_type": "markdown",
   "id": "f7ecca37",
   "metadata": {},
   "source": [
    "# Part I:  Analyze the effectiveness (accuracy) of the ADS by comparing its performance across different subpopulations."
   ]
  },
  {
   "cell_type": "markdown",
   "id": "c69ade60",
   "metadata": {},
   "source": [
    "There are several sub-populations of interest we explore.\n"
   ]
  },
  {
   "cell_type": "code",
   "execution_count": null,
   "id": "dbaf9357",
   "metadata": {},
   "outputs": [],
   "source": [
    "# Compute AUC\n",
    "\n",
    "roc_auc_score(data['TARGET'],data['PREDICTIONS'])"
   ]
  },
  {
   "cell_type": "markdown",
   "id": "c6748ecb",
   "metadata": {},
   "source": [
    "This is the overall AUC score achieved. Now we want to compare how different sub-populations do on this. \n"
   ]
  },
  {
   "cell_type": "code",
   "execution_count": null,
   "id": "4d88e11d",
   "metadata": {},
   "outputs": [],
   "source": [
    "def subpopulation_AUC(data,col='CODE_GENDER',protected = 'F',continuous=False):\n",
    "    \"\"\"\n",
    "    Compare model performance across subpopulations compared to the overall performance. \n",
    "    \n",
    "    Since AUC is the target metric of this ADS, we will use this value to start for comparison. \n",
    "    \n",
    "    \n",
    "    \"\"\"\n",
    "    \n",
    "    if continuous:\n",
    "        unpriviledged_group = data.loc[data[col] >= protected]\n",
    "    else:\n",
    "        unpriviledged_group = data.loc[data[col] == protected] \n",
    "\n",
    "    unpriveledged_auc = roc_auc_score(unpriviledged_group['TARGET'],unpriviledged_group['PREDICTIONS'])\n",
    "    overall_auc = roc_auc_score(data['TARGET'],data['PREDICTIONS'])\n",
    "\n",
    "    \n",
    "    return unpriveledged_auc,  unpriveledged_auc - overall_auc\n",
    "\n",
    "\n",
    "\n",
    "\n",
    "\n",
    "\n"
   ]
  },
  {
   "cell_type": "code",
   "execution_count": null,
   "id": "06c4e896",
   "metadata": {},
   "outputs": [],
   "source": [
    "subpopulation_AUC(data,col='CODE_GENDER',protected = 'F')\n"
   ]
  },
  {
   "cell_type": "markdown",
   "id": "39835dab",
   "metadata": {},
   "source": [
    "For gender, we observe that the ADS performs a little bit worse on the Female only sub-population. "
   ]
  },
  {
   "cell_type": "code",
   "execution_count": null,
   "id": "b7c2e47e",
   "metadata": {},
   "outputs": [],
   "source": [
    "subpopulation_AUC(data,col='FLAG_OWN_CAR',protected = 'N')"
   ]
  },
  {
   "cell_type": "markdown",
   "id": "37326776",
   "metadata": {},
   "source": [
    "For owning a car, we observe that this model ADS performs about the same regardless of this attribute. It is worth noting that this says nothing about the potential disparity between folks who own cars and those who don't, but this attribute does not impact evaluation performance. "
   ]
  },
  {
   "cell_type": "code",
   "execution_count": null,
   "id": "a35b002e",
   "metadata": {},
   "outputs": [],
   "source": [
    "subpopulation_AUC(data,col='NAME_FAMILY_STATUS',protected = 'Widow')"
   ]
  },
  {
   "cell_type": "markdown",
   "id": "815a3e85",
   "metadata": {},
   "source": [
    "For the sub-population of widows, this model performs notably worse compared to the overall AUC. This could be an attribute worth exploring more. "
   ]
  },
  {
   "cell_type": "code",
   "execution_count": null,
   "id": "a0bea823",
   "metadata": {},
   "outputs": [],
   "source": [
    "data.NAME_EDUCATION_TYPE.unique()"
   ]
  },
  {
   "cell_type": "code",
   "execution_count": null,
   "id": "37cfb46b",
   "metadata": {},
   "outputs": [],
   "source": [
    "subpopulation_AUC(data,col='NAME_EDUCATION_TYPE',protected = 'Lower secondary')"
   ]
  },
  {
   "cell_type": "markdown",
   "id": "13297119",
   "metadata": {},
   "source": [
    "For education, folks with a lower secondary degree also appear to be impacted negatively. "
   ]
  },
  {
   "cell_type": "code",
   "execution_count": null,
   "id": "dc2809ec",
   "metadata": {},
   "outputs": [],
   "source": [
    "data['CNT_CHILDREN'].unique()"
   ]
  },
  {
   "cell_type": "code",
   "execution_count": null,
   "id": "ef7cfbab",
   "metadata": {},
   "outputs": [],
   "source": [
    "subpopulation_AUC(data,col='CNT_CHILDREN',protected = 1,continuous=True)\n"
   ]
  },
  {
   "cell_type": "markdown",
   "id": "7638c2ec",
   "metadata": {},
   "source": [
    "Not entirely sure how to approach this for continuous values, but clearly there is some sort of disparity based on the number of children the applicant has, but it is certainly ambigiuous on what threshold to use. For now using 1, and we find that there is a slight difference between this group and overall. "
   ]
  },
  {
   "cell_type": "markdown",
   "id": "37338fd5",
   "metadata": {},
   "source": [
    "# Part II: Select one or several fairness or diversity measures, justify your choice of these measures for the ADS in question, and quantify the fairness or diversity of this ADS."
   ]
  },
  {
   "cell_type": "markdown",
   "id": "54c9250d",
   "metadata": {},
   "source": [
    "Now using the test set, we are exploring how if this ADS is deployed in the wild, to an extent, whether or not our fairness metrics help us identify any signficant disparities between sub-populations which are worth future auditing. "
   ]
  },
  {
   "cell_type": "code",
   "execution_count": null,
   "id": "4b7edb8d",
   "metadata": {},
   "outputs": [],
   "source": [
    "test.rename(columns={\"TARGET\":\"PREDICTIONS\"},inplace=True)"
   ]
  },
  {
   "cell_type": "code",
   "execution_count": null,
   "id": "f9247373",
   "metadata": {},
   "outputs": [],
   "source": [
    "def disparate_impact_calculator(data,col='CODE_GENDER',protected = 'F',continuous=False):\n",
    "    \n",
    "    if continuous:\n",
    "        \n",
    "        unpriviledged_group = data.loc[data[col] >= protected]\n",
    "        priviledged_group = data.loc[data[col] < protected] \n",
    "        # a little ambiguous, but for some continuous values we could consider the protected class above, \n",
    "        # and the other below.\n",
    "        # If not, just invert the recovered value!\n",
    "        \n",
    "    else: \n",
    "        \n",
    "        unpriviledged_group = data.loc[data[col] == protected]\n",
    "        priviledged_group = data.loc[data[col] != protected]\n",
    "\n",
    "    return unpriviledged_group['PREDICTIONS'].mean()/priviledged_group['PREDICTIONS'].mean()"
   ]
  },
  {
   "cell_type": "code",
   "execution_count": null,
   "id": "8baadf24",
   "metadata": {},
   "outputs": [],
   "source": [
    "disparate_impact_calculator(test,col='CODE_GENDER',protected = 'F')"
   ]
  },
  {
   "cell_type": "code",
   "execution_count": null,
   "id": "ea22c71d",
   "metadata": {},
   "outputs": [],
   "source": [
    "disparate_impact_calculator(data,col='CODE_GENDER',protected = 'F')"
   ]
  },
  {
   "cell_type": "markdown",
   "id": "a8c780b7",
   "metadata": {},
   "source": [
    "The ideal value for this attribute is 1. Not only do we observe a pretty significant deviation from this value, but we see that it gets worse when we move to test! "
   ]
  },
  {
   "cell_type": "code",
   "execution_count": null,
   "id": "028963c2",
   "metadata": {},
   "outputs": [],
   "source": [
    "disparate_impact_calculator(test,col='FLAG_OWN_CAR',protected = 'N')"
   ]
  },
  {
   "cell_type": "code",
   "execution_count": null,
   "id": "deab5339",
   "metadata": {},
   "outputs": [],
   "source": [
    "disparate_impact_calculator(data,col='FLAG_OWN_CAR',protected = 'N')"
   ]
  },
  {
   "cell_type": "markdown",
   "id": "d7b26b61",
   "metadata": {},
   "source": [
    "Perhaps surpisingly, those who do not own cars are actually better off than those who do. There are a few explanations for this, but one hypothesis is that having a car means added expenses, thus making it less feasible for the applicant to pay a loan. "
   ]
  },
  {
   "cell_type": "code",
   "execution_count": null,
   "id": "0211b9aa",
   "metadata": {},
   "outputs": [],
   "source": [
    "disparate_impact_calculator(test,col='NAME_FAMILY_STATUS',protected = 'Widow')"
   ]
  },
  {
   "cell_type": "code",
   "execution_count": null,
   "id": "a6e9bf96",
   "metadata": {},
   "outputs": [],
   "source": [
    "disparate_impact_calculator(data,col='NAME_FAMILY_STATUS',protected = 'Widow')"
   ]
  },
  {
   "cell_type": "markdown",
   "id": "58e2ea23",
   "metadata": {},
   "source": [
    "The widow sub-population faces disparate impact. "
   ]
  },
  {
   "cell_type": "code",
   "execution_count": null,
   "id": "c01b7726",
   "metadata": {},
   "outputs": [],
   "source": [
    "disparate_impact_calculator(test,col='NAME_EDUCATION_TYPE',protected = 'Lower secondary')"
   ]
  },
  {
   "cell_type": "code",
   "execution_count": null,
   "id": "43dcefd7",
   "metadata": {},
   "outputs": [],
   "source": [
    "disparate_impact_calculator(data,col='NAME_EDUCATION_TYPE',protected = 'Lower secondary')"
   ]
  },
  {
   "cell_type": "markdown",
   "id": "2e2e4ca1",
   "metadata": {},
   "source": [
    "Much easier for lower secondary to receive favorable ratings than other groups. Why? "
   ]
  },
  {
   "cell_type": "code",
   "execution_count": null,
   "id": "9c547210",
   "metadata": {},
   "outputs": [],
   "source": [
    "disparate_impact_calculator(test,col='CNT_CHILDREN',protected = 1,continuous=True)\n"
   ]
  },
  {
   "cell_type": "code",
   "execution_count": null,
   "id": "2dcee47a",
   "metadata": {},
   "outputs": [],
   "source": [
    "disparate_impact_calculator(data,col='CNT_CHILDREN',protected = 1,continuous=True)\n"
   ]
  },
  {
   "cell_type": "markdown",
   "id": "45b2e007",
   "metadata": {},
   "source": [
    "A little bit of favor to those who have children, explanation could be that since these are typically older applicants, children are probably working, and as such, would be able to help support loan repayment if necessary. "
   ]
  },
  {
   "cell_type": "markdown",
   "id": "912d104e",
   "metadata": {},
   "source": [
    "# Part III: Develop additional methods for analyzing ADS performance: think about stability, robustness, performance on difficult or otherwise important examples (in the style of LIME), or any other property that you believe is important to check for this ADS."
   ]
  },
  {
   "cell_type": "markdown",
   "id": "95672cab",
   "metadata": {},
   "source": [
    "There are two things to consider for this ADS. First we want to take what were the sub-populations which demonstrated the most disparity from the measures above, and based on the system's feature importances, see if we can intuit as to why this might be the case, and based on that hypothesize on potential mitigation strategies from there. \n",
    "\n",
    "\n",
    "The next thing to understand are some local predictions, in particular for the most and least confident decisions made by the ADS.\n",
    "\n",
    "The most confident scores will be prediction values near 0 or 1, and least confident will be predictions right around .5"
   ]
  },
  {
   "cell_type": "code",
   "execution_count": null,
   "id": "2792df92",
   "metadata": {},
   "outputs": [],
   "source": [
    "test['PREDICTIONS'].describe()"
   ]
  },
  {
   "cell_type": "code",
   "execution_count": null,
   "id": "0aff5b23",
   "metadata": {},
   "outputs": [],
   "source": [
    "# most confident prediction for train\n",
    "decisions.loc[decisions['PREDICTIONS'] == data['PREDICTIONS'].min()]"
   ]
  },
  {
   "cell_type": "code",
   "execution_count": null,
   "id": "e6cd1a55",
   "metadata": {},
   "outputs": [],
   "source": [
    "decisions.loc[decisions['PREDICTIONS'] == data['PREDICTIONS'].max()]"
   ]
  },
  {
   "cell_type": "code",
   "execution_count": null,
   "id": "e547063c",
   "metadata": {},
   "outputs": [],
   "source": [
    "decisions.loc[decisions['PREDICTIONS'] == .5] # TODO - find closest "
   ]
  },
  {
   "cell_type": "markdown",
   "id": "f28fa9b6",
   "metadata": {},
   "source": [
    "TODO- save submissiuon features, and compute these high and low confidence values for the test set. I don't have that at the moment.  "
   ]
  },
  {
   "cell_type": "code",
   "execution_count": null,
   "id": "1fe5d0e5",
   "metadata": {},
   "outputs": [],
   "source": [
    "decisions.iloc[(decisions['PREDICTIONS']-.5).abs().argsort()[:1]]"
   ]
  },
  {
   "cell_type": "markdown",
   "id": "94535509",
   "metadata": {},
   "source": [
    "Also need the model itself, which I currently do not have saved! "
   ]
  },
  {
   "cell_type": "code",
   "execution_count": null,
   "id": "986cb890",
   "metadata": {},
   "outputs": [],
   "source": []
  }
 ],
 "metadata": {
  "kernelspec": {
   "display_name": "Python 3",
   "language": "python",
   "name": "python3"
  },
  "language_info": {
   "codemirror_mode": {
    "name": "ipython",
    "version": 3
   },
   "file_extension": ".py",
   "mimetype": "text/x-python",
   "name": "python",
   "nbconvert_exporter": "python",
   "pygments_lexer": "ipython3",
   "version": "3.8.5"
  }
 },
 "nbformat": 4,
 "nbformat_minor": 5
}

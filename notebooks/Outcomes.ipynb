{
 "cells": [
  {
   "cell_type": "markdown",
   "id": "eeca7e1f",
   "metadata": {},
   "source": [
    "# Outcomes\n",
    "\n",
    "This notebook contains the steps used to analyze the outcomes of this ADS, in three parts. \n"
   ]
  },
  {
   "cell_type": "code",
   "execution_count": 8,
   "id": "fd99df95",
   "metadata": {},
   "outputs": [],
   "source": [
    "# Preliminary imports\n",
    "\n",
    "\n",
    "import os\n",
    "import gc\n",
    "import re\n",
    "import time\n",
    "import numpy as np\n",
    "import pandas as pd\n",
    "from contextlib import contextmanager\n",
    "import multiprocessing as mp\n",
    "from functools import partial\n",
    "from scipy.stats import kurtosis, iqr, skew\n",
    "\n",
    "import warnings\n",
    "warnings.simplefilter(action='ignore', category=FutureWarning)\n",
    "#from sklearn.externals import joblib\n",
    "from sklearn.metrics import confusion_matrix, accuracy_score, f1_score, roc_auc_score\n",
    "from sklearn.preprocessing import MinMaxScaler, LabelEncoder\n",
    "from sklearn.ensemble import RandomForestClassifier\n",
    "\n",
    "import matplotlib.pyplot as plt \n",
    "%matplotlib inline\n",
    "pd.set_option('display.max_columns', None)\n",
    "pd.set_option('display.max_rows', None)\n",
    "\n",
    "\n",
    "feature_importances = pd.read_csv('feature_importance_model2_04.csv')\n",
    "\n",
    "decisions = pd.read_csv('oof_model2_04.csv')\n",
    "\n",
    "submission = pd.read_csv('submission_model2_04.csv')\n",
    "\n",
    "test = pd.read_csv('../../../home-credit-default-risk/application_test.csv')\n",
    "train = pd.read_csv('../../../home-credit-default-risk/application_train.csv')\n",
    "\n",
    "data = train.merge(decisions[['SK_ID_CURR','PREDICTIONS']],on='SK_ID_CURR',how='left')\n",
    "test = test.merge(submission[['SK_ID_CURR','TARGET']],on='SK_ID_CURR',how='left')\n",
    "\n",
    "data.dropna(subset=['PREDICTIONS'],axis=0,inplace=True)"
   ]
  },
  {
   "cell_type": "markdown",
   "id": "f7ecca37",
   "metadata": {},
   "source": [
    "# Part I:  Analyze the effectiveness (accuracy) of the ADS by comparing its performance across different subpopulations."
   ]
  },
  {
   "cell_type": "markdown",
   "id": "c69ade60",
   "metadata": {},
   "source": [
    "There are several sub-populations of interest we can explore. \n",
    "\n",
    "We begin by observing the overall AUC, serving as our starting point.\n"
   ]
  },
  {
   "cell_type": "code",
   "execution_count": 9,
   "id": "dbaf9357",
   "metadata": {},
   "outputs": [
    {
     "name": "stdout",
     "output_type": "stream",
     "text": [
      "The overall ADS AUC score on the training + validation set is  0.7996349323611904\n"
     ]
    }
   ],
   "source": [
    "# Compute AUC\n",
    "\n",
    "full_auc = roc_auc_score(data['TARGET'],data['PREDICTIONS'])\n",
    "\n",
    "print(\"The overall ADS AUC score on the training + validation set is \", full_auc)"
   ]
  },
  {
   "cell_type": "markdown",
   "id": "c6748ecb",
   "metadata": {},
   "source": [
    "This is the overall AUC score achieved. Now we want to compare how different sub-populations do on this. \n"
   ]
  },
  {
   "cell_type": "code",
   "execution_count": 10,
   "id": "4d88e11d",
   "metadata": {},
   "outputs": [],
   "source": [
    "def subpopulation_AUC(data,col='CODE_GENDER',protected = 'F',continuous=False):\n",
    "    \"\"\"\n",
    "    Compare model performance across subpopulations compared to the overall performance. \n",
    "    \n",
    "    Since AUC is the target metric of this ADS, we will use this value to start for comparison. \n",
    "    \n",
    "    \n",
    "    \"\"\"\n",
    "    \n",
    "    if continuous:\n",
    "        unpriviledged_group = data.loc[data[col] >= protected]\n",
    "    else:\n",
    "        unpriviledged_group = data.loc[data[col] == protected] \n",
    "\n",
    "    unpriveledged_auc = roc_auc_score(unpriviledged_group['TARGET'],unpriviledged_group['PREDICTIONS'])\n",
    "    overall_auc = roc_auc_score(data['TARGET'],data['PREDICTIONS'])\n",
    "\n",
    "    \n",
    "    return unpriveledged_auc,  unpriveledged_auc - overall_auc\n"
   ]
  },
  {
   "cell_type": "code",
   "execution_count": 11,
   "id": "06c4e896",
   "metadata": {},
   "outputs": [
    {
     "name": "stdout",
     "output_type": "stream",
     "text": [
      "For the female only sub-population, the recovered AUC is  0.7994648552224612 . This differs from the starting AUC by  -0.0001700771387291855\n"
     ]
    }
   ],
   "source": [
    "gender_auc, diff = subpopulation_AUC(data,col='CODE_GENDER',protected = 'F')\n",
    "print(\"For the female only sub-population, the recovered AUC is \", gender_auc, \". This differs from the starting AUC by \", diff)"
   ]
  },
  {
   "cell_type": "markdown",
   "id": "39835dab",
   "metadata": {},
   "source": [
    "For gender, we observe that the ADS performs a little bit worse on the Female only sub-population. "
   ]
  },
  {
   "cell_type": "code",
   "execution_count": 12,
   "id": "b7c2e47e",
   "metadata": {},
   "outputs": [
    {
     "name": "stdout",
     "output_type": "stream",
     "text": [
      "For the non-car-owning sub-population, the recovered AUC is  0.7997225072422942 . This differs from the starting AUC by  8.75748811037802e-05\n"
     ]
    }
   ],
   "source": [
    "car_auc , diff = subpopulation_AUC(data,col='FLAG_OWN_CAR',protected = 'N')\n",
    "\n",
    "\n",
    "print(\"For the non-car-owning sub-population, the recovered AUC is \", car_auc, \". This differs from the starting AUC by \", diff)\n",
    "\n",
    "\n",
    "\n"
   ]
  },
  {
   "cell_type": "markdown",
   "id": "37326776",
   "metadata": {},
   "source": [
    "For owning a car, we observe that this model ADS performs about the same regardless of this attribute. It is worth noting that this says nothing about the potential disparity between folks who own cars and those who don't, but this attribute does not impact evaluation performance. "
   ]
  },
  {
   "cell_type": "code",
   "execution_count": 13,
   "id": "a35b002e",
   "metadata": {},
   "outputs": [
    {
     "name": "stdout",
     "output_type": "stream",
     "text": [
      "For the widow sub-population, the recovered AUC is  0.7720119068893594 . This differs from the starting AUC by  -0.027623025471831042\n"
     ]
    }
   ],
   "source": [
    "family_auc, diff = subpopulation_AUC(data,col='NAME_FAMILY_STATUS',protected = 'Widow')\n",
    "\n",
    "\n",
    "\n",
    "print(\"For the widow sub-population, the recovered AUC is \", family_auc, \". This differs from the starting AUC by \", diff)\n",
    "\n"
   ]
  },
  {
   "cell_type": "markdown",
   "id": "815a3e85",
   "metadata": {},
   "source": [
    "For the sub-population of widows, this model performs notably worse compared to the overall AUC. This could be an attribute worth exploring more. "
   ]
  },
  {
   "cell_type": "code",
   "execution_count": 14,
   "id": "37cfb46b",
   "metadata": {},
   "outputs": [
    {
     "name": "stdout",
     "output_type": "stream",
     "text": [
      "For the sub-population with only a lower secondary educational degree, the recovered AUC is  0.7740582467829796 . This differs from the starting AUC by  -0.0255766855782108\n"
     ]
    }
   ],
   "source": [
    "edu_auc, diff = subpopulation_AUC(data,col='NAME_EDUCATION_TYPE',protected = 'Lower secondary')\n",
    "\n",
    "\n",
    "print(\"For the sub-population with only a lower secondary educational degree, the recovered AUC is \", edu_auc, \". This differs from the starting AUC by \", diff)\n",
    "\n"
   ]
  },
  {
   "cell_type": "markdown",
   "id": "13297119",
   "metadata": {},
   "source": [
    "For education, folks with a lower secondary degree also appear to be impacted negatively. "
   ]
  },
  {
   "cell_type": "code",
   "execution_count": 15,
   "id": "ef7cfbab",
   "metadata": {},
   "outputs": [
    {
     "name": "stdout",
     "output_type": "stream",
     "text": [
      "For the sub-population with 1 or more children, the recovered AUC is  0.800912526040215 . This differs from the starting AUC by  0.00127759367902458\n"
     ]
    }
   ],
   "source": [
    "child_auc, diff = subpopulation_AUC(data,col='CNT_CHILDREN',protected = 1,continuous=True)\n",
    "\n",
    "\n",
    "print(\"For the sub-population with 1 or more children, the recovered AUC is \", child_auc, \". This differs from the starting AUC by \", diff)\n",
    "\n",
    "\n"
   ]
  },
  {
   "cell_type": "markdown",
   "id": "7638c2ec",
   "metadata": {},
   "source": [
    "Not entirely sure how to approach this for continuous values, but clearly there is some sort of disparity based on the number of children the applicant has, but it is certainly ambigiuous on what threshold to use. For now using 1, and we find that there is a slight difference between this group and overall. "
   ]
  },
  {
   "cell_type": "markdown",
   "id": "37338fd5",
   "metadata": {},
   "source": [
    "# Part II: Select one or several fairness or diversity measures, justify your choice of these measures for the ADS in question, and quantify the fairness or diversity of this ADS."
   ]
  },
  {
   "cell_type": "markdown",
   "id": "54c9250d",
   "metadata": {},
   "source": [
    "Now using the test set, we are exploring how if this ADS is deployed in the wild, to an extent, whether or not our fairness metrics help us identify any signficant disparities between sub-populations which are worth future auditing. "
   ]
  },
  {
   "cell_type": "code",
   "execution_count": 16,
   "id": "f9247373",
   "metadata": {},
   "outputs": [],
   "source": [
    "test.rename(columns={\"TARGET\":\"PREDICTIONS\"},inplace=True)\n",
    "def disparate_impact_calculator(data,col='CODE_GENDER',protected = 'F',continuous=False):\n",
    "    \n",
    "    if continuous:\n",
    "        \n",
    "        unpriviledged_group = data.loc[data[col] >= protected]\n",
    "        priviledged_group = data.loc[data[col] < protected] \n",
    "        # a little ambiguous, but for some continuous values we could consider the protected class above, \n",
    "        # and the other below.\n",
    "        # If not, just invert the recovered value!\n",
    "        \n",
    "    else: \n",
    "        \n",
    "        unpriviledged_group = data.loc[data[col] == protected]\n",
    "        priviledged_group = data.loc[data[col] != protected]\n",
    "\n",
    "    return unpriviledged_group['PREDICTIONS'].mean()/priviledged_group['PREDICTIONS'].mean()"
   ]
  },
  {
   "cell_type": "code",
   "execution_count": 17,
   "id": "8baadf24",
   "metadata": {},
   "outputs": [
    {
     "name": "stdout",
     "output_type": "stream",
     "text": [
      "The disparate impact based on gender is  0.7083307651872992  in the training set, and  0.6652394750744546  in the test set.\n"
     ]
    }
   ],
   "source": [
    "x = disparate_impact_calculator(test,col='CODE_GENDER',protected = 'F')\n",
    "y = disparate_impact_calculator(data,col='CODE_GENDER',protected = 'F')\n",
    "\n",
    "\n",
    "print(\"The disparate impact based on gender is \", y, ' in the training set, and ',x,' in the test set.')"
   ]
  },
  {
   "cell_type": "markdown",
   "id": "a8c780b7",
   "metadata": {},
   "source": [
    "The ideal value for this attribute is 1. Not only do we observe a pretty significant deviation from this value, but we see that it gets worse when we move to test! "
   ]
  },
  {
   "cell_type": "code",
   "execution_count": 18,
   "id": "028963c2",
   "metadata": {},
   "outputs": [
    {
     "name": "stdout",
     "output_type": "stream",
     "text": [
      "The disparate impact based on car ownership is  1.1521600724246586  in the training set, and  1.1030948497130701  in the test set.\n"
     ]
    }
   ],
   "source": [
    "x = disparate_impact_calculator(test,col='FLAG_OWN_CAR',protected = 'N')\n",
    "\n",
    "y = disparate_impact_calculator(data,col='FLAG_OWN_CAR',protected = 'N')\n",
    "\n",
    "\n",
    "print(\"The disparate impact based on car ownership is \", y, ' in the training set, and ',x,' in the test set.')"
   ]
  },
  {
   "cell_type": "markdown",
   "id": "d7b26b61",
   "metadata": {},
   "source": [
    "Perhaps surpisingly, those who do not own cars are actually better off than those who do. There are a few explanations for this, but one hypothesis is that having a car means added expenses, thus making it less feasible for the applicant to pay a loan. "
   ]
  },
  {
   "cell_type": "code",
   "execution_count": 19,
   "id": "0211b9aa",
   "metadata": {},
   "outputs": [
    {
     "name": "stdout",
     "output_type": "stream",
     "text": [
      "The disparate impact based on being a widow is  0.7041094851584311  in the training set, and  0.6719221685992843  in the test set.\n"
     ]
    }
   ],
   "source": [
    "x = disparate_impact_calculator(test,col='NAME_FAMILY_STATUS',protected = 'Widow')\n",
    "\n",
    "y = disparate_impact_calculator(data,col='NAME_FAMILY_STATUS',protected = 'Widow')\n",
    "\n",
    "\n",
    "print(\"The disparate impact based on being a widow is \", y, ' in the training set, and ',x,' in the test set.')"
   ]
  },
  {
   "cell_type": "markdown",
   "id": "58e2ea23",
   "metadata": {},
   "source": [
    "Similar to gender, widow sub-population faces disparate impact. "
   ]
  },
  {
   "cell_type": "code",
   "execution_count": 20,
   "id": "c01b7726",
   "metadata": {},
   "outputs": [
    {
     "name": "stdout",
     "output_type": "stream",
     "text": [
      "The disparate impact based on having a Lower secondary education status is  1.3089180914564904  in the training set, and  1.2640341635584056  in the test set.\n"
     ]
    }
   ],
   "source": [
    "x = disparate_impact_calculator(test,col='NAME_EDUCATION_TYPE',protected = 'Lower secondary')\n",
    "y = disparate_impact_calculator(data,col='NAME_EDUCATION_TYPE',protected = 'Lower secondary')\n",
    "\n",
    "\n",
    "print(\"The disparate impact based on having a Lower secondary education status is \", y, ' in the training set, and ',x,' in the test set.')"
   ]
  },
  {
   "cell_type": "markdown",
   "id": "2e2e4ca1",
   "metadata": {},
   "source": [
    "Perhaps surprisingly, it is easier for lower secondary to receive favorable ratings than other edcuational status groups. "
   ]
  },
  {
   "cell_type": "code",
   "execution_count": 21,
   "id": "9c547210",
   "metadata": {},
   "outputs": [
    {
     "name": "stdout",
     "output_type": "stream",
     "text": [
      "The disparate impact based on having one or more children is  1.1481827472311983  in the training set, and  1.1228517036866072  in the test set.\n"
     ]
    }
   ],
   "source": [
    "x = disparate_impact_calculator(test,col='CNT_CHILDREN',protected = 1,continuous=True)\n",
    "y = disparate_impact_calculator(data,col='CNT_CHILDREN',protected = 1,continuous=True)\n",
    "\n",
    "print(\"The disparate impact based on having one or more children is \", y, ' in the training set, and ',x,' in the test set.')"
   ]
  },
  {
   "cell_type": "markdown",
   "id": "45b2e007",
   "metadata": {},
   "source": [
    "A little bit of favor to those who have children, explanation could be that since these are typically older applicants, children are probably working, and as such, would be able to help support loan repayment if necessary. "
   ]
  },
  {
   "cell_type": "markdown",
   "id": "912d104e",
   "metadata": {},
   "source": [
    "# Part III: Develop additional methods for analyzing ADS performance: think about stability, robustness, performance on difficult or otherwise important examples (in the style of LIME), or any other property that you believe is important to check for this ADS."
   ]
  },
  {
   "cell_type": "markdown",
   "id": "95672cab",
   "metadata": {},
   "source": [
    "There are two things to consider for this ADS. First we want to take what were the sub-populations which demonstrated the most disparity from the measures above, and based on the system's feature importances, see if we can intuit as to why this might be the case, and based on that hypothesize on potential mitigation strategies from there. \n",
    "\n",
    "\n",
    "The next thing to understand are some local predictions, in particular for the most and least confident decisions made by the ADS.\n",
    "\n",
    "The most confident scores will be prediction values near 0 or 1, and least confident will be predictions right around .5"
   ]
  },
  {
   "cell_type": "markdown",
   "id": "2213ac8e",
   "metadata": {},
   "source": [
    "Unfortunately LIME is not a feasible tool since this ADS works with NaN and infinite values, something not yet manageable for implentations of LIME or SHAP. Instead, another important aspect for transparency we choose to examine are provided feature importances, and allow that to guide our understanding of this ADS in this next step. "
   ]
  },
  {
   "cell_type": "code",
   "execution_count": 22,
   "id": "e26da549",
   "metadata": {},
   "outputs": [
    {
     "data": {
      "text/html": [
       "<div>\n",
       "<style scoped>\n",
       "    .dataframe tbody tr th:only-of-type {\n",
       "        vertical-align: middle;\n",
       "    }\n",
       "\n",
       "    .dataframe tbody tr th {\n",
       "        vertical-align: top;\n",
       "    }\n",
       "\n",
       "    .dataframe thead th {\n",
       "        text-align: right;\n",
       "    }\n",
       "</style>\n",
       "<table border=\"1\" class=\"dataframe\">\n",
       "  <thead>\n",
       "    <tr style=\"text-align: right;\">\n",
       "      <th></th>\n",
       "      <th>feature</th>\n",
       "      <th>gain</th>\n",
       "      <th>split</th>\n",
       "    </tr>\n",
       "  </thead>\n",
       "  <tbody>\n",
       "    <tr>\n",
       "      <th>0</th>\n",
       "      <td>EXT_SOURCES_MEAN</td>\n",
       "      <td>630312.097774</td>\n",
       "      <td>1627.9</td>\n",
       "    </tr>\n",
       "    <tr>\n",
       "      <th>1</th>\n",
       "      <td>EXT_SOURCES_NANMEDIAN</td>\n",
       "      <td>288492.997356</td>\n",
       "      <td>1361.8</td>\n",
       "    </tr>\n",
       "    <tr>\n",
       "      <th>2</th>\n",
       "      <td>EXT_SOURCES_MIN</td>\n",
       "      <td>232531.100522</td>\n",
       "      <td>1376.2</td>\n",
       "    </tr>\n",
       "    <tr>\n",
       "      <th>3</th>\n",
       "      <td>ORGANIZATION_TYPE</td>\n",
       "      <td>184313.908802</td>\n",
       "      <td>7139.4</td>\n",
       "    </tr>\n",
       "    <tr>\n",
       "      <th>4</th>\n",
       "      <td>EXT_SOURCES_MAX</td>\n",
       "      <td>131637.630816</td>\n",
       "      <td>1076.7</td>\n",
       "    </tr>\n",
       "  </tbody>\n",
       "</table>\n",
       "</div>"
      ],
      "text/plain": [
       "                 feature           gain   split\n",
       "0       EXT_SOURCES_MEAN  630312.097774  1627.9\n",
       "1  EXT_SOURCES_NANMEDIAN  288492.997356  1361.8\n",
       "2        EXT_SOURCES_MIN  232531.100522  1376.2\n",
       "3      ORGANIZATION_TYPE  184313.908802  7139.4\n",
       "4        EXT_SOURCES_MAX  131637.630816  1076.7"
      ]
     },
     "execution_count": 22,
     "metadata": {},
     "output_type": "execute_result"
    }
   ],
   "source": [
    "feature_importances.head()"
   ]
  },
  {
   "cell_type": "markdown",
   "id": "223c0eac",
   "metadata": {},
   "source": [
    "Firstly, it appears that the most prominent features are associated with external sources of income. This is certainly a favorable result, since even with a basic understanding of how credit approval works, we would expect that one's determination for a loan is based on their current sources of income, and whether or not that could be sufficent enough a source for repayment. We can see from above that this is the case. However, we are already aware of potential issues associated with features like gender, so the next step is to see where in this feature importance list Gender resides. "
   ]
  },
  {
   "cell_type": "code",
   "execution_count": 27,
   "id": "88bec771",
   "metadata": {},
   "outputs": [
    {
     "data": {
      "text/plain": [
       "Float64Index([0.0380517503805175], dtype='float64')"
      ]
     },
     "execution_count": 27,
     "metadata": {},
     "output_type": "execute_result"
    }
   ],
   "source": [
    "feature_importances.loc[feature_importances['feature'].str.contains(\"GENDER\")].index / feature_importances.shape[0]"
   ]
  },
  {
   "cell_type": "markdown",
   "id": "8a913a4d",
   "metadata": {},
   "source": [
    "As we can see above, the gender attribute is in the top 4% of feature importances. \n",
    "\n",
    "\n",
    "Next, we can try a simple aggregation technique which sheds some light on the particular domain these top features come from, and see if it provides any additional insight.\n"
   ]
  },
  {
   "cell_type": "code",
   "execution_count": 28,
   "id": "db650cd4",
   "metadata": {},
   "outputs": [],
   "source": [
    "feature_importances['feature_class'] = feature_importances['feature'].apply(lambda z: '_'.join(z.split('_')[:-1]))"
   ]
  },
  {
   "cell_type": "code",
   "execution_count": 29,
   "id": "6ca8a15f",
   "metadata": {},
   "outputs": [
    {
     "data": {
      "text/html": [
       "<div>\n",
       "<style scoped>\n",
       "    .dataframe tbody tr th:only-of-type {\n",
       "        vertical-align: middle;\n",
       "    }\n",
       "\n",
       "    .dataframe tbody tr th {\n",
       "        vertical-align: top;\n",
       "    }\n",
       "\n",
       "    .dataframe thead th {\n",
       "        text-align: right;\n",
       "    }\n",
       "</style>\n",
       "<table border=\"1\" class=\"dataframe\">\n",
       "  <thead>\n",
       "    <tr style=\"text-align: right;\">\n",
       "      <th></th>\n",
       "      <th>feature</th>\n",
       "      <th>gain</th>\n",
       "      <th>split</th>\n",
       "      <th>feature_class</th>\n",
       "    </tr>\n",
       "  </thead>\n",
       "  <tbody>\n",
       "    <tr>\n",
       "      <th>0</th>\n",
       "      <td>EXT_SOURCES_MEAN</td>\n",
       "      <td>630312.097774</td>\n",
       "      <td>1627.9</td>\n",
       "      <td>EXT_SOURCES</td>\n",
       "    </tr>\n",
       "    <tr>\n",
       "      <th>1</th>\n",
       "      <td>EXT_SOURCES_NANMEDIAN</td>\n",
       "      <td>288492.997356</td>\n",
       "      <td>1361.8</td>\n",
       "      <td>EXT_SOURCES</td>\n",
       "    </tr>\n",
       "    <tr>\n",
       "      <th>2</th>\n",
       "      <td>EXT_SOURCES_MIN</td>\n",
       "      <td>232531.100522</td>\n",
       "      <td>1376.2</td>\n",
       "      <td>EXT_SOURCES</td>\n",
       "    </tr>\n",
       "    <tr>\n",
       "      <th>3</th>\n",
       "      <td>ORGANIZATION_TYPE</td>\n",
       "      <td>184313.908802</td>\n",
       "      <td>7139.4</td>\n",
       "      <td>ORGANIZATION</td>\n",
       "    </tr>\n",
       "    <tr>\n",
       "      <th>4</th>\n",
       "      <td>EXT_SOURCES_MAX</td>\n",
       "      <td>131637.630816</td>\n",
       "      <td>1076.7</td>\n",
       "      <td>EXT_SOURCES</td>\n",
       "    </tr>\n",
       "  </tbody>\n",
       "</table>\n",
       "</div>"
      ],
      "text/plain": [
       "                 feature           gain   split feature_class\n",
       "0       EXT_SOURCES_MEAN  630312.097774  1627.9   EXT_SOURCES\n",
       "1  EXT_SOURCES_NANMEDIAN  288492.997356  1361.8   EXT_SOURCES\n",
       "2        EXT_SOURCES_MIN  232531.100522  1376.2   EXT_SOURCES\n",
       "3      ORGANIZATION_TYPE  184313.908802  7139.4  ORGANIZATION\n",
       "4        EXT_SOURCES_MAX  131637.630816  1076.7   EXT_SOURCES"
      ]
     },
     "execution_count": 29,
     "metadata": {},
     "output_type": "execute_result"
    }
   ],
   "source": [
    "feature_importances.head()"
   ]
  },
  {
   "cell_type": "code",
   "execution_count": 31,
   "id": "96e2d3d0",
   "metadata": {},
   "outputs": [
    {
     "data": {
      "text/plain": [
       "<AxesSubplot:>"
      ]
     },
     "execution_count": 31,
     "metadata": {},
     "output_type": "execute_result"
    },
    {
     "data": {
      "image/png": "[encoded data removed]",
      "text/plain": [
       "<Figure size 432x288 with 1 Axes>"
      ]
     },
     "metadata": {
      "needs_background": "light"
     },
     "output_type": "display_data"
    }
   ],
   "source": [
    "feature_importances.head(n=25)['feature_class'].value_counts().plot(kind='bar')"
   ]
  },
  {
   "cell_type": "code",
   "execution_count": null,
   "id": "675d75d2",
   "metadata": {},
   "outputs": [],
   "source": []
  }
 ],
 "metadata": {
  "kernelspec": {
   "display_name": "Python 3",
   "language": "python",
   "name": "python3"
  },
  "language_info": {
   "codemirror_mode": {
    "name": "ipython",
    "version": 3
   },
   "file_extension": ".py",
   "mimetype": "text/x-python",
   "name": "python",
   "nbconvert_exporter": "python",
   "pygments_lexer": "ipython3",
   "version": "3.8.5"
  }
 },
 "nbformat": 4,
 "nbformat_minor": 5
}
